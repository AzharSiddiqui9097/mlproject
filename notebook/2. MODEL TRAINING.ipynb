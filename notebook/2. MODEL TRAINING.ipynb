{
 "cells": [
  {
   "attachments": {},
   "cell_type": "markdown",
   "id": "92e48866",
   "metadata": {},
   "source": [
    "## Model Training"
   ]
  },
  {
   "cell_type": "code",
   "execution_count": 1,
   "id": "b080dfb2",
   "metadata": {},
   "outputs": [],
   "source": [
    "import numpy as np\n",
    "import pandas as pd\n",
    "import matplotlib.pyplot as plt \n",
    "%matplotlib inline\n",
    "import seaborn as sns\n",
    "sns.set()\n",
    "import warnings\n",
    "warnings.filterwarnings('ignore')"
   ]
  },
  {
   "cell_type": "code",
   "execution_count": 2,
   "id": "f261391a",
   "metadata": {},
   "outputs": [
    {
     "data": {
      "text/html": [
       "<div>\n",
       "<style scoped>\n",
       "    .dataframe tbody tr th:only-of-type {\n",
       "        vertical-align: middle;\n",
       "    }\n",
       "\n",
       "    .dataframe tbody tr th {\n",
       "        vertical-align: top;\n",
       "    }\n",
       "\n",
       "    .dataframe thead th {\n",
       "        text-align: right;\n",
       "    }\n",
       "</style>\n",
       "<table border=\"1\" class=\"dataframe\">\n",
       "  <thead>\n",
       "    <tr style=\"text-align: right;\">\n",
       "      <th></th>\n",
       "      <th>gender</th>\n",
       "      <th>race_ethnicity</th>\n",
       "      <th>parental_level_of_education</th>\n",
       "      <th>lunch</th>\n",
       "      <th>test_preparation_course</th>\n",
       "      <th>math_score</th>\n",
       "      <th>reading_score</th>\n",
       "      <th>writing_score</th>\n",
       "    </tr>\n",
       "  </thead>\n",
       "  <tbody>\n",
       "    <tr>\n",
       "      <th>0</th>\n",
       "      <td>female</td>\n",
       "      <td>group B</td>\n",
       "      <td>bachelor's degree</td>\n",
       "      <td>standard</td>\n",
       "      <td>none</td>\n",
       "      <td>72</td>\n",
       "      <td>72</td>\n",
       "      <td>74</td>\n",
       "    </tr>\n",
       "    <tr>\n",
       "      <th>1</th>\n",
       "      <td>female</td>\n",
       "      <td>group C</td>\n",
       "      <td>some college</td>\n",
       "      <td>standard</td>\n",
       "      <td>completed</td>\n",
       "      <td>69</td>\n",
       "      <td>90</td>\n",
       "      <td>88</td>\n",
       "    </tr>\n",
       "  </tbody>\n",
       "</table>\n",
       "</div>"
      ],
      "text/plain": [
       "   gender race_ethnicity parental_level_of_education     lunch  \\\n",
       "0  female        group B           bachelor's degree  standard   \n",
       "1  female        group C                some college  standard   \n",
       "\n",
       "  test_preparation_course  math_score  reading_score  writing_score  \n",
       "0                    none          72             72             74  \n",
       "1               completed          69             90             88  "
      ]
     },
     "execution_count": 2,
     "metadata": {},
     "output_type": "execute_result"
    }
   ],
   "source": [
    "df = pd.read_csv('data/stud.csv')\n",
    "df.head(2)"
   ]
  },
  {
   "cell_type": "code",
   "execution_count": 3,
   "id": "a7b2757c",
   "metadata": {},
   "outputs": [
    {
     "data": {
      "text/html": [
       "<div>\n",
       "<style scoped>\n",
       "    .dataframe tbody tr th:only-of-type {\n",
       "        vertical-align: middle;\n",
       "    }\n",
       "\n",
       "    .dataframe tbody tr th {\n",
       "        vertical-align: top;\n",
       "    }\n",
       "\n",
       "    .dataframe thead th {\n",
       "        text-align: right;\n",
       "    }\n",
       "</style>\n",
       "<table border=\"1\" class=\"dataframe\">\n",
       "  <thead>\n",
       "    <tr style=\"text-align: right;\">\n",
       "      <th></th>\n",
       "      <th>gender</th>\n",
       "      <th>race_ethnicity</th>\n",
       "      <th>parental_level_of_education</th>\n",
       "      <th>lunch</th>\n",
       "      <th>test_preparation_course</th>\n",
       "      <th>reading_score</th>\n",
       "      <th>writing_score</th>\n",
       "    </tr>\n",
       "  </thead>\n",
       "  <tbody>\n",
       "    <tr>\n",
       "      <th>0</th>\n",
       "      <td>female</td>\n",
       "      <td>group B</td>\n",
       "      <td>bachelor's degree</td>\n",
       "      <td>standard</td>\n",
       "      <td>none</td>\n",
       "      <td>72</td>\n",
       "      <td>74</td>\n",
       "    </tr>\n",
       "    <tr>\n",
       "      <th>1</th>\n",
       "      <td>female</td>\n",
       "      <td>group C</td>\n",
       "      <td>some college</td>\n",
       "      <td>standard</td>\n",
       "      <td>completed</td>\n",
       "      <td>90</td>\n",
       "      <td>88</td>\n",
       "    </tr>\n",
       "    <tr>\n",
       "      <th>2</th>\n",
       "      <td>female</td>\n",
       "      <td>group B</td>\n",
       "      <td>master's degree</td>\n",
       "      <td>standard</td>\n",
       "      <td>none</td>\n",
       "      <td>95</td>\n",
       "      <td>93</td>\n",
       "    </tr>\n",
       "    <tr>\n",
       "      <th>3</th>\n",
       "      <td>male</td>\n",
       "      <td>group A</td>\n",
       "      <td>associate's degree</td>\n",
       "      <td>free/reduced</td>\n",
       "      <td>none</td>\n",
       "      <td>57</td>\n",
       "      <td>44</td>\n",
       "    </tr>\n",
       "    <tr>\n",
       "      <th>4</th>\n",
       "      <td>male</td>\n",
       "      <td>group C</td>\n",
       "      <td>some college</td>\n",
       "      <td>standard</td>\n",
       "      <td>none</td>\n",
       "      <td>78</td>\n",
       "      <td>75</td>\n",
       "    </tr>\n",
       "  </tbody>\n",
       "</table>\n",
       "</div>"
      ],
      "text/plain": [
       "   gender race_ethnicity parental_level_of_education         lunch  \\\n",
       "0  female        group B           bachelor's degree      standard   \n",
       "1  female        group C                some college      standard   \n",
       "2  female        group B             master's degree      standard   \n",
       "3    male        group A          associate's degree  free/reduced   \n",
       "4    male        group C                some college      standard   \n",
       "\n",
       "  test_preparation_course  reading_score  writing_score  \n",
       "0                    none             72             74  \n",
       "1               completed             90             88  \n",
       "2                    none             95             93  \n",
       "3                    none             57             44  \n",
       "4                    none             78             75  "
      ]
     },
     "execution_count": 3,
     "metadata": {},
     "output_type": "execute_result"
    }
   ],
   "source": [
    "x = df.drop(columns=['math_score'])\n",
    "x.head()"
   ]
  },
  {
   "cell_type": "code",
   "execution_count": 4,
   "id": "620e7591",
   "metadata": {},
   "outputs": [
    {
     "data": {
      "text/html": [
       "<div>\n",
       "<style scoped>\n",
       "    .dataframe tbody tr th:only-of-type {\n",
       "        vertical-align: middle;\n",
       "    }\n",
       "\n",
       "    .dataframe tbody tr th {\n",
       "        vertical-align: top;\n",
       "    }\n",
       "\n",
       "    .dataframe thead th {\n",
       "        text-align: right;\n",
       "    }\n",
       "</style>\n",
       "<table border=\"1\" class=\"dataframe\">\n",
       "  <thead>\n",
       "    <tr style=\"text-align: right;\">\n",
       "      <th></th>\n",
       "      <th>math_score</th>\n",
       "    </tr>\n",
       "  </thead>\n",
       "  <tbody>\n",
       "    <tr>\n",
       "      <th>0</th>\n",
       "      <td>72</td>\n",
       "    </tr>\n",
       "    <tr>\n",
       "      <th>1</th>\n",
       "      <td>69</td>\n",
       "    </tr>\n",
       "    <tr>\n",
       "      <th>2</th>\n",
       "      <td>90</td>\n",
       "    </tr>\n",
       "    <tr>\n",
       "      <th>3</th>\n",
       "      <td>47</td>\n",
       "    </tr>\n",
       "    <tr>\n",
       "      <th>4</th>\n",
       "      <td>76</td>\n",
       "    </tr>\n",
       "  </tbody>\n",
       "</table>\n",
       "</div>"
      ],
      "text/plain": [
       "   math_score\n",
       "0          72\n",
       "1          69\n",
       "2          90\n",
       "3          47\n",
       "4          76"
      ]
     },
     "execution_count": 4,
     "metadata": {},
     "output_type": "execute_result"
    }
   ],
   "source": [
    "y = df[['math_score']]\n",
    "y.head()"
   ]
  },
  {
   "cell_type": "code",
   "execution_count": 5,
   "id": "0ddd8c02",
   "metadata": {},
   "outputs": [
    {
     "name": "stdout",
     "output_type": "stream",
     "text": [
      "<class 'pandas.core.frame.DataFrame'>\n",
      "RangeIndex: 1000 entries, 0 to 999\n",
      "Data columns (total 7 columns):\n",
      " #   Column                       Non-Null Count  Dtype \n",
      "---  ------                       --------------  ----- \n",
      " 0   gender                       1000 non-null   object\n",
      " 1   race_ethnicity               1000 non-null   object\n",
      " 2   parental_level_of_education  1000 non-null   object\n",
      " 3   lunch                        1000 non-null   object\n",
      " 4   test_preparation_course      1000 non-null   object\n",
      " 5   reading_score                1000 non-null   int64 \n",
      " 6   writing_score                1000 non-null   int64 \n",
      "dtypes: int64(2), object(5)\n",
      "memory usage: 54.8+ KB\n"
     ]
    }
   ],
   "source": [
    "x.info()"
   ]
  },
  {
   "cell_type": "code",
   "execution_count": 8,
   "id": "063665a7",
   "metadata": {},
   "outputs": [],
   "source": [
    "numerical_features = x.select_dtypes(include=['int64']).columns\n",
    "categorical_feature = x.select_dtypes(include=[object]).columns"
   ]
  },
  {
   "cell_type": "code",
   "execution_count": 10,
   "id": "32db16bd",
   "metadata": {},
   "outputs": [],
   "source": [
    "from sklearn.preprocessing import StandardScaler,OneHotEncoder\n",
    "from sklearn.compose import ColumnTransformer\n",
    "scaler_transform = StandardScaler()\n",
    "one_hot_transformer = OneHotEncoder()"
   ]
  },
  {
   "cell_type": "code",
   "execution_count": 11,
   "id": "6d01547c",
   "metadata": {},
   "outputs": [],
   "source": [
    "transformer = ColumnTransformer([('StandardScaler',scaler_transform,numerical_features),('OneHotEncoder',one_hot_transformer,categorical_feature)])"
   ]
  },
  {
   "cell_type": "code",
   "execution_count": 12,
   "id": "a8cb60b0",
   "metadata": {},
   "outputs": [],
   "source": [
    "x_transformed = transformer.fit_transform(x)"
   ]
  },
  {
   "cell_type": "code",
   "execution_count": 16,
   "id": "a2f99461",
   "metadata": {},
   "outputs": [
    {
     "data": {
      "text/html": [
       "<div>\n",
       "<style scoped>\n",
       "    .dataframe tbody tr th:only-of-type {\n",
       "        vertical-align: middle;\n",
       "    }\n",
       "\n",
       "    .dataframe tbody tr th {\n",
       "        vertical-align: top;\n",
       "    }\n",
       "\n",
       "    .dataframe thead th {\n",
       "        text-align: right;\n",
       "    }\n",
       "</style>\n",
       "<table border=\"1\" class=\"dataframe\">\n",
       "  <thead>\n",
       "    <tr style=\"text-align: right;\">\n",
       "      <th></th>\n",
       "      <th>0</th>\n",
       "      <th>1</th>\n",
       "      <th>2</th>\n",
       "      <th>3</th>\n",
       "      <th>4</th>\n",
       "      <th>5</th>\n",
       "      <th>6</th>\n",
       "      <th>7</th>\n",
       "      <th>8</th>\n",
       "      <th>9</th>\n",
       "      <th>10</th>\n",
       "      <th>11</th>\n",
       "      <th>12</th>\n",
       "      <th>13</th>\n",
       "      <th>14</th>\n",
       "      <th>15</th>\n",
       "      <th>16</th>\n",
       "      <th>17</th>\n",
       "      <th>18</th>\n",
       "    </tr>\n",
       "  </thead>\n",
       "  <tbody>\n",
       "    <tr>\n",
       "      <th>0</th>\n",
       "      <td>0.193999</td>\n",
       "      <td>0.391492</td>\n",
       "      <td>1.0</td>\n",
       "      <td>0.0</td>\n",
       "      <td>0.0</td>\n",
       "      <td>1.0</td>\n",
       "      <td>0.0</td>\n",
       "      <td>0.0</td>\n",
       "      <td>0.0</td>\n",
       "      <td>0.0</td>\n",
       "      <td>1.0</td>\n",
       "      <td>0.0</td>\n",
       "      <td>0.0</td>\n",
       "      <td>0.0</td>\n",
       "      <td>0.0</td>\n",
       "      <td>0.0</td>\n",
       "      <td>1.0</td>\n",
       "      <td>0.0</td>\n",
       "      <td>1.0</td>\n",
       "    </tr>\n",
       "    <tr>\n",
       "      <th>1</th>\n",
       "      <td>1.427476</td>\n",
       "      <td>1.313269</td>\n",
       "      <td>1.0</td>\n",
       "      <td>0.0</td>\n",
       "      <td>0.0</td>\n",
       "      <td>0.0</td>\n",
       "      <td>1.0</td>\n",
       "      <td>0.0</td>\n",
       "      <td>0.0</td>\n",
       "      <td>0.0</td>\n",
       "      <td>0.0</td>\n",
       "      <td>0.0</td>\n",
       "      <td>0.0</td>\n",
       "      <td>1.0</td>\n",
       "      <td>0.0</td>\n",
       "      <td>0.0</td>\n",
       "      <td>1.0</td>\n",
       "      <td>1.0</td>\n",
       "      <td>0.0</td>\n",
       "    </tr>\n",
       "    <tr>\n",
       "      <th>2</th>\n",
       "      <td>1.770109</td>\n",
       "      <td>1.642475</td>\n",
       "      <td>1.0</td>\n",
       "      <td>0.0</td>\n",
       "      <td>0.0</td>\n",
       "      <td>1.0</td>\n",
       "      <td>0.0</td>\n",
       "      <td>0.0</td>\n",
       "      <td>0.0</td>\n",
       "      <td>0.0</td>\n",
       "      <td>0.0</td>\n",
       "      <td>0.0</td>\n",
       "      <td>1.0</td>\n",
       "      <td>0.0</td>\n",
       "      <td>0.0</td>\n",
       "      <td>0.0</td>\n",
       "      <td>1.0</td>\n",
       "      <td>0.0</td>\n",
       "      <td>1.0</td>\n",
       "    </tr>\n",
       "    <tr>\n",
       "      <th>3</th>\n",
       "      <td>-0.833899</td>\n",
       "      <td>-1.583744</td>\n",
       "      <td>0.0</td>\n",
       "      <td>1.0</td>\n",
       "      <td>1.0</td>\n",
       "      <td>0.0</td>\n",
       "      <td>0.0</td>\n",
       "      <td>0.0</td>\n",
       "      <td>0.0</td>\n",
       "      <td>1.0</td>\n",
       "      <td>0.0</td>\n",
       "      <td>0.0</td>\n",
       "      <td>0.0</td>\n",
       "      <td>0.0</td>\n",
       "      <td>0.0</td>\n",
       "      <td>1.0</td>\n",
       "      <td>0.0</td>\n",
       "      <td>0.0</td>\n",
       "      <td>1.0</td>\n",
       "    </tr>\n",
       "    <tr>\n",
       "      <th>4</th>\n",
       "      <td>0.605158</td>\n",
       "      <td>0.457333</td>\n",
       "      <td>0.0</td>\n",
       "      <td>1.0</td>\n",
       "      <td>0.0</td>\n",
       "      <td>0.0</td>\n",
       "      <td>1.0</td>\n",
       "      <td>0.0</td>\n",
       "      <td>0.0</td>\n",
       "      <td>0.0</td>\n",
       "      <td>0.0</td>\n",
       "      <td>0.0</td>\n",
       "      <td>0.0</td>\n",
       "      <td>1.0</td>\n",
       "      <td>0.0</td>\n",
       "      <td>0.0</td>\n",
       "      <td>1.0</td>\n",
       "      <td>0.0</td>\n",
       "      <td>1.0</td>\n",
       "    </tr>\n",
       "  </tbody>\n",
       "</table>\n",
       "</div>"
      ],
      "text/plain": [
       "         0         1    2    3    4    5    6    7    8    9    10   11   12  \\\n",
       "0  0.193999  0.391492  1.0  0.0  0.0  1.0  0.0  0.0  0.0  0.0  1.0  0.0  0.0   \n",
       "1  1.427476  1.313269  1.0  0.0  0.0  0.0  1.0  0.0  0.0  0.0  0.0  0.0  0.0   \n",
       "2  1.770109  1.642475  1.0  0.0  0.0  1.0  0.0  0.0  0.0  0.0  0.0  0.0  1.0   \n",
       "3 -0.833899 -1.583744  0.0  1.0  1.0  0.0  0.0  0.0  0.0  1.0  0.0  0.0  0.0   \n",
       "4  0.605158  0.457333  0.0  1.0  0.0  0.0  1.0  0.0  0.0  0.0  0.0  0.0  0.0   \n",
       "\n",
       "    13   14   15   16   17   18  \n",
       "0  0.0  0.0  0.0  1.0  0.0  1.0  \n",
       "1  1.0  0.0  0.0  1.0  1.0  0.0  \n",
       "2  0.0  0.0  0.0  1.0  0.0  1.0  \n",
       "3  0.0  0.0  1.0  0.0  0.0  1.0  \n",
       "4  1.0  0.0  0.0  1.0  0.0  1.0  "
      ]
     },
     "execution_count": 16,
     "metadata": {},
     "output_type": "execute_result"
    }
   ],
   "source": [
    "pd.DataFrame(x_transformed).head()"
   ]
  },
  {
   "cell_type": "code",
   "execution_count": 17,
   "id": "8b44c896",
   "metadata": {},
   "outputs": [
    {
     "data": {
      "text/plain": [
       "(1000, 19)"
      ]
     },
     "execution_count": 17,
     "metadata": {},
     "output_type": "execute_result"
    }
   ],
   "source": [
    "x_transformed.shape"
   ]
  },
  {
   "cell_type": "code",
   "execution_count": 18,
   "id": "c22e657b",
   "metadata": {},
   "outputs": [],
   "source": [
    "from sklearn.model_selection import train_test_split\n",
    "x_train,x_test,y_train,y_test = train_test_split(x_transformed,y,test_size=0.25,random_state=42)"
   ]
  },
  {
   "cell_type": "code",
   "execution_count": 20,
   "id": "6e031261",
   "metadata": {},
   "outputs": [],
   "source": [
    "from sklearn.metrics import r2_score,mean_absolute_error,mean_squared_error\n",
    "def model_performance(actual,predicted):\n",
    "    mae = mean_absolute_error(actual,predicted)\n",
    "    rmse = np.sqrt(mean_squared_error(actual,predicted))\n",
    "    r2_value = r2_score(actual,predicted)\n",
    "    return mae,rmse,r2_value"
   ]
  },
  {
   "cell_type": "code",
   "execution_count": 22,
   "id": "7a0fa818",
   "metadata": {},
   "outputs": [],
   "source": [
    "from sklearn.linear_model import LinearRegression,Ridge,Lasso\n",
    "from sklearn.tree import DecisionTreeRegressor\n",
    "from sklearn.ensemble import RandomForestRegressor\n",
    "from sklearn.neighbors import KNeighborsRegressor\n",
    "from sklearn.svm import SVR\n",
    "from sklearn.ensemble import AdaBoostRegressor\n",
    "from sklearn.ensemble import GradientBoostingRegressor\n",
    "from xgboost import XGBRegressor\n",
    "from catboost import CatBoostRegressor\n"
   ]
  },
  {
   "cell_type": "code",
   "execution_count": 23,
   "id": "c88ec41a",
   "metadata": {},
   "outputs": [],
   "source": [
    "models = {\n",
    "    'Linear Regression':LinearRegression(),\n",
    "    'Ridge Regression':Ridge(),\n",
    "    'Lasso Regression':Lasso(),\n",
    "    'Random Forest Regressor':RandomForestRegressor(),\n",
    "    'K Nearest Regressor':KNeighborsRegressor(),\n",
    "    'Support Vector Regressor': SVR(),\n",
    "    'Adaboost Regressor':AdaBoostRegressor(),\n",
    "    'GradientBoost Regressor':GradientBoostingRegressor(),\n",
    "    'XGBoost Regressor':XGBRegressor(),\n",
    "    'Decision Tree Regressor':DecisionTreeRegressor(),\n",
    "    'CatBoost Regressor':CatBoostRegressor(verbose=False)\n",
    "}"
   ]
  },
  {
   "cell_type": "code",
   "execution_count": 36,
   "id": "a213deb3",
   "metadata": {},
   "outputs": [],
   "source": [
    "model_list = []\n",
    "r2_score_test_list = []\n",
    "r2_score_train_list = []"
   ]
  },
  {
   "cell_type": "code",
   "execution_count": 37,
   "id": "72b09da7",
   "metadata": {},
   "outputs": [
    {
     "name": "stdout",
     "output_type": "stream",
     "text": [
      "===========Linear Regression==============\n",
      "Model performance for Training set\n",
      "- Root Mean Squared Error: 5.297244966554282\n",
      "- Mean Absolute Error: 4.238267465725305\n",
      "- R2 Score: 0.8742732380399838\n",
      "----------------------------------\n",
      "Model performance for Test set\n",
      "- Root Mean Squared Error: 5.482528123659772\n",
      "- Mean Absolute Error: 4.337930600167403\n",
      "- R2 Score: 0.8778243107659014\n",
      "===================================\n",
      "\n",
      "\n",
      "===========Ridge Regression==============\n",
      "Model performance for Training set\n",
      "- Root Mean Squared Error: 5.297563633731872\n",
      "- Mean Absolute Error: 4.236822709293622\n",
      "- R2 Score: 0.8742581108568038\n",
      "----------------------------------\n",
      "Model performance for Test set\n",
      "- Root Mean Squared Error: 5.478806037015033\n",
      "- Mean Absolute Error: 4.33537241938823\n",
      "- R2 Score: 0.8779901445296864\n",
      "===================================\n",
      "\n",
      "\n",
      "===========Lasso Regression==============\n",
      "Model performance for Training set\n",
      "- Root Mean Squared Error: 6.551500056369396\n",
      "- Mean Absolute Error: 5.183725467135435\n",
      "- R2 Score: 0.8076867909314052\n",
      "----------------------------------\n",
      "Model performance for Test set\n",
      "- Root Mean Squared Error: 6.65412842705209\n",
      "- Mean Absolute Error: 5.2217044431408555\n",
      "- R2 Score: 0.8200278028352899\n",
      "===================================\n",
      "\n",
      "\n",
      "===========Random Forest Regressor==============\n",
      "Model performance for Training set\n",
      "- Root Mean Squared Error: 2.2914279244678393\n",
      "- Mean Absolute Error: 1.817784126984127\n",
      "- R2 Score: 0.9764744373359063\n",
      "----------------------------------\n",
      "Model performance for Test set\n",
      "- Root Mean Squared Error: 6.092832644050004\n",
      "- Mean Absolute Error: 4.741970952380952\n",
      "- R2 Score: 0.8491096173581534\n",
      "===================================\n",
      "\n",
      "\n",
      "===========K Nearest Regressor==============\n",
      "Model performance for Training set\n",
      "- Root Mean Squared Error: 5.76944133632827\n",
      "- Mean Absolute Error: 4.5688\n",
      "- R2 Score: 0.8508596560674779\n",
      "----------------------------------\n",
      "Model performance for Test set\n",
      "- Root Mean Squared Error: 7.1380781727296885\n",
      "- Mean Absolute Error: 5.548\n",
      "- R2 Score: 0.7928973475790722\n",
      "===================================\n",
      "\n",
      "\n",
      "===========Support Vector Regressor==============\n",
      "Model performance for Training set\n",
      "- Root Mean Squared Error: 6.665345225238809\n",
      "- Mean Absolute Error: 4.912706240471043\n",
      "- R2 Score: 0.8009450815313517\n",
      "----------------------------------\n",
      "Model performance for Test set\n",
      "- Root Mean Squared Error: 8.244154025396966\n",
      "- Mean Absolute Error: 5.6024205463774885\n",
      "- R2 Score: 0.723741750491916\n",
      "===================================\n",
      "\n",
      "\n",
      "===========Adaboost Regressor==============\n",
      "Model performance for Training set\n",
      "- Root Mean Squared Error: 5.77108277474694\n",
      "- Mean Absolute Error: 4.719741564229928\n",
      "- R2 Score: 0.8507747814669108\n",
      "----------------------------------\n",
      "Model performance for Test set\n",
      "- Root Mean Squared Error: 6.122881317253762\n",
      "- Mean Absolute Error: 4.817816557634069\n",
      "- R2 Score: 0.8476176228765575\n",
      "===================================\n",
      "\n",
      "\n",
      "===========GradientBoost Regressor==============\n",
      "Model performance for Training set\n",
      "- Root Mean Squared Error: 4.61916487065207\n",
      "- Mean Absolute Error: 3.709585763573921\n",
      "- R2 Score: 0.9044007370348193\n",
      "----------------------------------\n",
      "Model performance for Test set\n",
      "- Root Mean Squared Error: 5.580811259516858\n",
      "- Mean Absolute Error: 4.370677785700786\n",
      "- R2 Score: 0.8734046564589855\n",
      "===================================\n",
      "\n",
      "\n",
      "===========XGBoost Regressor==============\n",
      "Model performance for Training set\n",
      "- Root Mean Squared Error: 0.8782698077857326\n",
      "- Mean Absolute Error: 0.5772224426269531\n",
      "- R2 Score: 0.9965439220971458\n",
      "----------------------------------\n",
      "Model performance for Test set\n",
      "- Root Mean Squared Error: 6.315016376145559\n",
      "- Mean Absolute Error: 4.930113471984863\n",
      "- R2 Score: 0.8379041024122059\n",
      "===================================\n",
      "\n",
      "\n",
      "===========Decision Tree Regressor==============\n",
      "Model performance for Training set\n",
      "- Root Mean Squared Error: 0.28867513459481287\n",
      "- Mean Absolute Error: 0.02\n",
      "- R2 Score: 0.9996266240241963\n",
      "----------------------------------\n",
      "Model performance for Test set\n",
      "- Root Mean Squared Error: 7.809225313691493\n",
      "- Mean Absolute Error: 6.056\n",
      "- R2 Score: 0.7521214379284831\n",
      "===================================\n",
      "\n",
      "\n",
      "===========CatBoost Regressor==============\n",
      "Model performance for Training set\n",
      "- Root Mean Squared Error: 2.944443141595763\n",
      "- Mean Absolute Error: 2.322147793524523\n",
      "- R2 Score: 0.961155104152535\n",
      "----------------------------------\n",
      "Model performance for Test set\n",
      "- Root Mean Squared Error: 5.976234509459967\n",
      "- Mean Absolute Error: 4.650802242582823\n",
      "- R2 Score: 0.8548295164541377\n",
      "===================================\n",
      "\n",
      "\n"
     ]
    }
   ],
   "source": [
    "for model_name in models:\n",
    "    model = models[model_name]\n",
    "    model_list.append(model_name)\n",
    "\n",
    "    #Training the model\n",
    "    model.fit(x_train,y_train)\n",
    "\n",
    "    #Predicting the model\n",
    "    y_pred_train = model.predict(x_train)\n",
    "    y_pred_test = model.predict(x_test)\n",
    "\n",
    "    # Evaluating the perfromance of the model\n",
    "    mae_train,rmse_train,r2_value_train = model_performance(y_train,y_pred_train)\n",
    "    r2_score_train_list.append(r2_value_train)\n",
    "    mae_test,rmse_test,r2_value_test = model_performance(y_test,y_pred_test)\n",
    "    r2_score_test_list.append(r2_value_test)\n",
    "    print(f\"==========={model_name}==============\")\n",
    "    print('Model performance for Training set')\n",
    "    print(f\"- Root Mean Squared Error: {rmse_train}\")\n",
    "    print(f\"- Mean Absolute Error: {mae_train}\")\n",
    "    print(f\"- R2 Score: {r2_value_train}\")\n",
    "\n",
    "    print('----------------------------------')\n",
    "    \n",
    "    print('Model performance for Test set')\n",
    "    print(f\"- Root Mean Squared Error: {rmse_test}\")\n",
    "    print(f\"- Mean Absolute Error: {mae_test}\")\n",
    "    print(f\"- R2 Score: {r2_value_test}\")   \n",
    "    print('='*35)\n",
    "    print('\\n')\n",
    "    \n",
    "\n",
    "\n"
   ]
  },
  {
   "cell_type": "code",
   "execution_count": 42,
   "id": "bc0d8929",
   "metadata": {},
   "outputs": [],
   "source": [
    "perf_df = pd.DataFrame({'Model Name':model_list,'R2 Score Test':r2_score_test_list,'R2 Score Train':r2_score_train_list}).sort_values(by =['R2 Score Test'],ascending=False)"
   ]
  },
  {
   "cell_type": "code",
   "execution_count": 44,
   "id": "f644f899",
   "metadata": {},
   "outputs": [
    {
     "data": {
      "text/html": [
       "<div>\n",
       "<style scoped>\n",
       "    .dataframe tbody tr th:only-of-type {\n",
       "        vertical-align: middle;\n",
       "    }\n",
       "\n",
       "    .dataframe tbody tr th {\n",
       "        vertical-align: top;\n",
       "    }\n",
       "\n",
       "    .dataframe thead th {\n",
       "        text-align: right;\n",
       "    }\n",
       "</style>\n",
       "<table border=\"1\" class=\"dataframe\">\n",
       "  <thead>\n",
       "    <tr style=\"text-align: right;\">\n",
       "      <th></th>\n",
       "      <th>Model Name</th>\n",
       "      <th>R2 Score Test</th>\n",
       "      <th>R2 Score Train</th>\n",
       "    </tr>\n",
       "  </thead>\n",
       "  <tbody>\n",
       "    <tr>\n",
       "      <th>1</th>\n",
       "      <td>Ridge Regression</td>\n",
       "      <td>0.877990</td>\n",
       "      <td>0.874258</td>\n",
       "    </tr>\n",
       "    <tr>\n",
       "      <th>0</th>\n",
       "      <td>Linear Regression</td>\n",
       "      <td>0.877824</td>\n",
       "      <td>0.874273</td>\n",
       "    </tr>\n",
       "    <tr>\n",
       "      <th>7</th>\n",
       "      <td>GradientBoost Regressor</td>\n",
       "      <td>0.873405</td>\n",
       "      <td>0.904401</td>\n",
       "    </tr>\n",
       "    <tr>\n",
       "      <th>10</th>\n",
       "      <td>CatBoost Regressor</td>\n",
       "      <td>0.854830</td>\n",
       "      <td>0.961155</td>\n",
       "    </tr>\n",
       "    <tr>\n",
       "      <th>3</th>\n",
       "      <td>Random Forest Regressor</td>\n",
       "      <td>0.849110</td>\n",
       "      <td>0.976474</td>\n",
       "    </tr>\n",
       "    <tr>\n",
       "      <th>6</th>\n",
       "      <td>Adaboost Regressor</td>\n",
       "      <td>0.847618</td>\n",
       "      <td>0.850775</td>\n",
       "    </tr>\n",
       "    <tr>\n",
       "      <th>8</th>\n",
       "      <td>XGBoost Regressor</td>\n",
       "      <td>0.837904</td>\n",
       "      <td>0.996544</td>\n",
       "    </tr>\n",
       "    <tr>\n",
       "      <th>2</th>\n",
       "      <td>Lasso Regression</td>\n",
       "      <td>0.820028</td>\n",
       "      <td>0.807687</td>\n",
       "    </tr>\n",
       "    <tr>\n",
       "      <th>4</th>\n",
       "      <td>K Nearest Regressor</td>\n",
       "      <td>0.792897</td>\n",
       "      <td>0.850860</td>\n",
       "    </tr>\n",
       "    <tr>\n",
       "      <th>9</th>\n",
       "      <td>Decision Tree Regressor</td>\n",
       "      <td>0.752121</td>\n",
       "      <td>0.999627</td>\n",
       "    </tr>\n",
       "    <tr>\n",
       "      <th>5</th>\n",
       "      <td>Support Vector Regressor</td>\n",
       "      <td>0.723742</td>\n",
       "      <td>0.800945</td>\n",
       "    </tr>\n",
       "  </tbody>\n",
       "</table>\n",
       "</div>"
      ],
      "text/plain": [
       "                  Model Name  R2 Score Test  R2 Score Train\n",
       "1           Ridge Regression       0.877990        0.874258\n",
       "0          Linear Regression       0.877824        0.874273\n",
       "7    GradientBoost Regressor       0.873405        0.904401\n",
       "10        CatBoost Regressor       0.854830        0.961155\n",
       "3    Random Forest Regressor       0.849110        0.976474\n",
       "6         Adaboost Regressor       0.847618        0.850775\n",
       "8          XGBoost Regressor       0.837904        0.996544\n",
       "2           Lasso Regression       0.820028        0.807687\n",
       "4        K Nearest Regressor       0.792897        0.850860\n",
       "9    Decision Tree Regressor       0.752121        0.999627\n",
       "5   Support Vector Regressor       0.723742        0.800945"
      ]
     },
     "execution_count": 44,
     "metadata": {},
     "output_type": "execute_result"
    }
   ],
   "source": [
    "perf_df"
   ]
  },
  {
   "cell_type": "code",
   "execution_count": 45,
   "id": "22bdcdde",
   "metadata": {},
   "outputs": [],
   "source": [
    "model_ridge = Ridge()"
   ]
  },
  {
   "cell_type": "code",
   "execution_count": 46,
   "id": "8403665b",
   "metadata": {},
   "outputs": [],
   "source": [
    "from sklearn.model_selection import GridSearchCV\n",
    "params = {\n",
    "    'alpha':[1.0,2.0,0.1,0.01,0.001]\n",
    "}"
   ]
  },
  {
   "cell_type": "code",
   "execution_count": 49,
   "id": "f7187c73",
   "metadata": {},
   "outputs": [],
   "source": [
    "model_grid = GridSearchCV(model_ridge,param_grid=params,scoring='r2',cv=5,refit=True)"
   ]
  },
  {
   "cell_type": "code",
   "execution_count": 50,
   "id": "e0c5d4c3",
   "metadata": {},
   "outputs": [
    {
     "data": {
      "text/plain": [
       "GridSearchCV(cv=5, estimator=Ridge(),\n",
       "             param_grid={'alpha': [1.0, 2.0, 0.1, 0.01, 0.001]}, scoring='r2')"
      ]
     },
     "execution_count": 50,
     "metadata": {},
     "output_type": "execute_result"
    }
   ],
   "source": [
    "model_grid.fit(x_train,y_train)"
   ]
  },
  {
   "cell_type": "code",
   "execution_count": 51,
   "id": "ef5a874c",
   "metadata": {},
   "outputs": [
    {
     "data": {
      "text/plain": [
       "{'alpha': 1.0}"
      ]
     },
     "execution_count": 51,
     "metadata": {},
     "output_type": "execute_result"
    }
   ],
   "source": [
    "model_grid.best_params_"
   ]
  },
  {
   "cell_type": "code",
   "execution_count": 52,
   "id": "f059720c",
   "metadata": {},
   "outputs": [],
   "source": [
    "model_ridge_updated = Ridge(alpha=1.0)\n",
    "model_ridge_updated.fit(x_train,y_train)\n",
    "y_pred_train_ridge = model_ridge_updated.predict(x_train)\n",
    "y_pred_test_ridge = model_ridge_updated.predict(x_test)\n"
   ]
  },
  {
   "cell_type": "code",
   "execution_count": 53,
   "id": "3854592a",
   "metadata": {},
   "outputs": [
    {
     "data": {
      "text/plain": [
       "0.8742581108568038"
      ]
     },
     "execution_count": 53,
     "metadata": {},
     "output_type": "execute_result"
    }
   ],
   "source": [
    "r2_score(y_train,y_pred_train_ridge)"
   ]
  },
  {
   "cell_type": "code",
   "execution_count": 54,
   "id": "2ef48d4c",
   "metadata": {},
   "outputs": [
    {
     "data": {
      "text/plain": [
       "0.8779901445296864"
      ]
     },
     "execution_count": 54,
     "metadata": {},
     "output_type": "execute_result"
    }
   ],
   "source": [
    "r2_score(y_test,y_pred_test_ridge)"
   ]
  },
  {
   "cell_type": "code",
   "execution_count": 61,
   "id": "ff54c77a",
   "metadata": {},
   "outputs": [
    {
     "data": {
      "image/png": "[encoded data removed]",
      "text/plain": [
       "<Figure size 640x480 with 1 Axes>"
      ]
     },
     "metadata": {},
     "output_type": "display_data"
    }
   ],
   "source": [
    "plt.scatter(y_test,y_pred_test_ridge,edgecolors='green')\n",
    "plt.show()"
   ]
  },
  {
   "cell_type": "code",
   "execution_count": 62,
   "id": "b0efd37b",
   "metadata": {},
   "outputs": [
    {
     "data": {
      "image/png": "[encoded data removed]",
      "text/plain": [
       "<Figure size 640x480 with 1 Axes>"
      ]
     },
     "metadata": {},
     "output_type": "display_data"
    }
   ],
   "source": [
    "sns.regplot(x=y_test,y=y_pred_test_ridge,ci=None,color ='blue')\n",
    "plt.show()"
   ]
  },
  {
   "cell_type": "code",
   "execution_count": 66,
   "id": "de7e6061",
   "metadata": {},
   "outputs": [
    {
     "data": {
      "image/png": "[encoded data removed]",
      "text/plain": [
       "<Figure size 1500x800 with 1 Axes>"
      ]
     },
     "metadata": {},
     "output_type": "display_data"
    }
   ],
   "source": [
    "import scipy.stats as stats\n",
    "plt.figure(figsize=(15,8))\n",
    "plt.subplot(121)\n",
    "sns.distplot(y_test-y_pred_test_ridge,kde=True)\n",
    "plt.show()\n",
    "\n",
    "# plt.subplot(1,2,2)\n",
    "# stats.probplot(y_test-y_pred_test_ridge,dist='norm',plot=plt)\n",
    "# plt.show()"
   ]
  },
  {
   "cell_type": "code",
   "execution_count": null,
   "id": "3fc9844c",
   "metadata": {},
   "outputs": [],
   "source": []
  },
  {
   "cell_type": "code",
   "execution_count": null,
   "id": "038a111c",
   "metadata": {},
   "outputs": [],
   "source": []
  },
  {
   "cell_type": "code",
   "execution_count": null,
   "id": "3d36cd4e",
   "metadata": {},
   "outputs": [],
   "source": []
  },
  {
   "cell_type": "code",
   "execution_count": null,
   "id": "3acf1fbc",
   "metadata": {},
   "outputs": [],
   "source": []
  }
 ],
 "metadata": {
  "kernelspec": {
   "display_name": "base",
   "language": "python",
   "name": "python3"
  },
  "language_info": {
   "codemirror_mode": {
    "name": "ipython",
    "version": 3
   },
   "file_extension": ".py",
   "mimetype": "text/x-python",
   "name": "python",
   "nbconvert_exporter": "python",
   "pygments_lexer": "ipython3",
   "version": "3.9.13"
  }
 },
 "nbformat": 4,
 "nbformat_minor": 5
}
